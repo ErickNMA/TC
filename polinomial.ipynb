{
 "cells": [
  {
   "cell_type": "markdown",
   "metadata": {},
   "source": [
    "<h1 align='center'>Projeto de Controlador Polinomial<h1>"
   ]
  },
  {
   "cell_type": "code",
   "execution_count": 1,
   "metadata": {},
   "outputs": [],
   "source": [
    "import control as ct\n",
    "import numpy as np\n",
    "import matplotlib.pyplot as plt\n",
    "import scienceplots\n",
    "\n",
    "# Configurações de plot:\n",
    "plt.style.use([\n",
    "    'grid',\n",
    "    'retro'\n",
    "])\n",
    "#plt.rcParams['lines.linewidth'] = 3\n",
    "#plt.rcParams['font.size'] = 20\n",
    "plt.rcParams['figure.figsize'] = (12, 5)"
   ]
  },
  {
   "cell_type": "markdown",
   "metadata": {},
   "source": [
    "<h3 align='center'>Função de Transferência do Sistema:<h3>"
   ]
  },
  {
   "cell_type": "code",
   "execution_count": 2,
   "metadata": {},
   "outputs": [
    {
     "data": {
      "text/latex": [
       "$$\\frac{0.25 s + 2.5}{s^3 + 0.5 s^2 - 0.25 s - 1.25}$$"
      ],
      "text/plain": [
       "TransferFunction(array([0.25, 2.5 ]), array([ 1.  ,  0.5 , -0.25, -1.25]))"
      ]
     },
     "execution_count": 2,
     "metadata": {},
     "output_type": "execute_result"
    }
   ],
   "source": [
    "s = ct.tf('s')\n",
    "\n",
    "G = (((0.25*s)+2.5)/((s**3)+(0.5*(s**2))-(0.25*s)-1.25))\n",
    "\n",
    "G"
   ]
  },
  {
   "cell_type": "markdown",
   "metadata": {},
   "source": [
    "<h3 align='center'>Polos desejados:<h3>"
   ]
  },
  {
   "cell_type": "code",
   "execution_count": 3,
   "metadata": {},
   "outputs": [
    {
     "data": {
      "text/plain": [
       "array([-0.4+0.78079251j, -0.4-0.78079251j])"
      ]
     },
     "execution_count": 3,
     "metadata": {},
     "output_type": "execute_result"
    }
   ],
   "source": [
    "zeta = -(np.log(0.2)/np.sqrt((np.pi**2)+(np.log(0.2)**2)))\n",
    "\n",
    "wn = (4/(zeta*10))\n",
    "\n",
    "pd = ((s**2)+(2*zeta*wn*s)+(wn**2))\n",
    "\n",
    "ct.zeros(pd)"
   ]
  },
  {
   "cell_type": "markdown",
   "metadata": {},
   "source": [
    "<h3 align='center'>Denominador da malha fechada:<h3>"
   ]
  },
  {
   "cell_type": "code",
   "execution_count": 4,
   "metadata": {},
   "outputs": [
    {
     "data": {
      "text/latex": [
       "$$\\frac{s^5 + 15.8 s^4 + 86.77 s^3 + 190.7 s^2 + 153 s + 92.36}{1}$$"
      ],
      "text/plain": [
       "TransferFunction(array([  1.        ,  15.8       ,  86.76963694, 190.74455407,\n",
       "       152.95313341,  92.35643255]), array([1]))"
      ]
     },
     "execution_count": 4,
     "metadata": {},
     "output_type": "execute_result"
    }
   ],
   "source": [
    "#Grau do denominador da malha fechada = 2*3 - 1 = 5:\n",
    "D = (pd*(s+4)*(s+5)*(s+6))\n",
    "\n",
    "D"
   ]
  },
  {
   "cell_type": "markdown",
   "metadata": {},
   "source": [
    "<h3 align='center'>Solução Matricial:<h3>"
   ]
  },
  {
   "cell_type": "code",
   "execution_count": 5,
   "metadata": {},
   "outputs": [
    {
     "data": {
      "text/plain": [
       "array([64.739278  , 15.3       ,  1.        , 69.313639  , 68.3925639 ,\n",
       "       58.52288801])"
      ]
     },
     "execution_count": 5,
     "metadata": {},
     "output_type": "execute_result"
    }
   ],
   "source": [
    "E = np.array([\n",
    "    [-1.25, 0, 0, 2.5, 0, 0],\n",
    "    [-0.25, -1.25, 0, 0.25, 2.5, 0],\n",
    "    [0.5, -0.25, -1.25, 0, 0.25, 2.5],\n",
    "    [1, 0.5, -0.25, 0, 0, 0.25],\n",
    "    [0, 1, 0.5, 0, 0, 0],\n",
    "    [0, 0, 1, 0, 0, 0]\n",
    "])\n",
    "\n",
    "D = np.array([92.36, 153, 190.7, 86.77, 15.8, 1]).T\n",
    "\n",
    "M = np.linalg.inv(E)@D\n",
    "\n",
    "M"
   ]
  },
  {
   "cell_type": "markdown",
   "metadata": {},
   "source": [
    "<h3 align='center'>Função de Transferência do Controlador:<h3>"
   ]
  },
  {
   "cell_type": "code",
   "execution_count": 6,
   "metadata": {},
   "outputs": [
    {
     "data": {
      "text/latex": [
       "$$\\frac{58.52 s^2 + 68.39 s + 69.31}{s^2 + 15.3 s + 64.74}$$"
      ],
      "text/plain": [
       "TransferFunction(array([58.52288801, 68.3925639 , 69.313639  ]), array([ 1.      , 15.3     , 64.739278]))"
      ]
     },
     "execution_count": 6,
     "metadata": {},
     "output_type": "execute_result"
    }
   ],
   "source": [
    "C = (((58.52288801*(s**2))+(68.3925639*s)+69.313639)/((1*(s**2))+(15.3*s)+64.739278))\n",
    "\n",
    "C"
   ]
  },
  {
   "cell_type": "markdown",
   "metadata": {},
   "source": [
    "<h3 align='center'>Malha Fechada Resultante:<h3>"
   ]
  },
  {
   "cell_type": "code",
   "execution_count": 7,
   "metadata": {},
   "outputs": [
    {
     "data": {
      "text/latex": [
       "$$\\frac{14.63 s^3 + 163.4 s^2 + 188.3 s + 173.3}{s^5 + 15.8 s^4 + 86.77 s^3 + 190.7 s^2 + 153 s + 92.36}$$"
      ],
      "text/plain": [
       "TransferFunction(array([ 14.630722 , 163.405361 , 188.3098195, 173.2840975]), array([  1.  ,  15.8 ,  86.77, 190.7 , 153.  ,  92.36]))"
      ]
     },
     "execution_count": 7,
     "metadata": {},
     "output_type": "execute_result"
    }
   ],
   "source": [
    "T = ct.feedback(C*G)\n",
    "\n",
    "T"
   ]
  },
  {
   "cell_type": "markdown",
   "metadata": {},
   "source": [
    "<h3 align='center'>Zeros da Malha Fechada:<h3>"
   ]
  },
  {
   "cell_type": "code",
   "execution_count": 8,
   "metadata": {},
   "outputs": [
    {
     "data": {
      "text/plain": [
       "array([-10.        +0.j        ,  -0.58432321+0.91812392j,\n",
       "        -0.58432321-0.91812392j])"
      ]
     },
     "execution_count": 8,
     "metadata": {},
     "output_type": "execute_result"
    }
   ],
   "source": [
    "zmf = ct.zeros(T)\n",
    "\n",
    "zmf"
   ]
  },
  {
   "cell_type": "markdown",
   "metadata": {},
   "source": [
    "<h3 align='center'>Pré-Compensador para cancelamento dos zeros dominantes:<h3>"
   ]
  },
  {
   "cell_type": "code",
   "execution_count": 9,
   "metadata": {},
   "outputs": [
    {
     "data": {
      "text/latex": [
       "$$\\frac{1}{s^2 + 1.169 s + 1.184}$$"
      ],
      "text/plain": [
       "TransferFunction(array([1]), array([1.        +0.j, 1.16864643+0.j, 1.18438514+0.j]))"
      ]
     },
     "execution_count": 9,
     "metadata": {},
     "output_type": "execute_result"
    }
   ],
   "source": [
    "#Pré-compensador:\n",
    "Pc = (1/((s-zmf[1])*(s-zmf[2])))\n",
    "\n",
    "Pc"
   ]
  },
  {
   "cell_type": "markdown",
   "metadata": {},
   "source": [
    "<h3 align='center'>MF + Pré-Compensador:<h3>"
   ]
  },
  {
   "cell_type": "code",
   "execution_count": 10,
   "metadata": {},
   "outputs": [
    {
     "data": {
      "text/latex": [
       "$$\\frac{14.63 s^3 + 163.4 s^2 + 188.3 s + 173.3}{s^7 + 16.97 s^6 + 106.4 s^5 + 310.8 s^4 + 478.6 s^3 + 497 s^2 + 289.1 s + 109.4}$$"
      ],
      "text/plain": [
       "TransferFunction(array([ 14.630722 +0.j, 163.405361 +0.j, 188.3098195+0.j, 173.2840975+0.j]), array([  1.        +0.j,  16.96864643+0.j, 106.41899867+0.j,\n",
       "       310.81673561+0.j, 478.62997213+0.j, 497.02514964+0.j,\n",
       "       289.14711054+0.j, 109.38981167+0.j]))"
      ]
     },
     "execution_count": 10,
     "metadata": {},
     "output_type": "execute_result"
    }
   ],
   "source": [
    "Pc*T"
   ]
  },
  {
   "cell_type": "markdown",
   "metadata": {},
   "source": [
    "<h3 align='center'>Ajuste para ganho unitário:<h3>"
   ]
  },
  {
   "cell_type": "code",
   "execution_count": 11,
   "metadata": {},
   "outputs": [
    {
     "data": {
      "text/latex": [
       "$$\\frac{0.6313}{s^2 + 1.169 s + 1.184}$$"
      ],
      "text/plain": [
       "TransferFunction(array([0.63127525+0.j]), array([1.        +0.j, 1.16864643+0.j, 1.18438514+0.j]))"
      ]
     },
     "execution_count": 11,
     "metadata": {},
     "output_type": "execute_result"
    }
   ],
   "source": [
    "Pc = Pc*(109.4/173.3)\n",
    "\n",
    "Pc"
   ]
  },
  {
   "cell_type": "markdown",
   "metadata": {},
   "source": [
    "<h3 align='center'>Função de Transferência Total:<h3>"
   ]
  },
  {
   "cell_type": "code",
   "execution_count": 12,
   "metadata": {},
   "outputs": [
    {
     "data": {
      "text/latex": [
       "$$\\frac{9.236 s^3 + 103.2 s^2 + 118.9 s + 109.4}{s^7 + 16.97 s^6 + 106.4 s^5 + 310.8 s^4 + 478.6 s^3 + 497 s^2 + 289.1 s + 109.4}$$"
      ],
      "text/plain": [
       "TransferFunction(array([  9.23601262+0.j, 103.15375934+0.j, 118.87532749+0.j,\n",
       "       109.38996115+0.j]), array([  1.        +0.j,  16.96864643+0.j, 106.41899867+0.j,\n",
       "       310.81673561+0.j, 478.62997213+0.j, 497.02514964+0.j,\n",
       "       289.14711054+0.j, 109.38981167+0.j]))"
      ]
     },
     "execution_count": 12,
     "metadata": {},
     "output_type": "execute_result"
    }
   ],
   "source": [
    "Gt = (Pc*T)\n",
    "\n",
    "Gt"
   ]
  },
  {
   "cell_type": "code",
   "execution_count": 13,
   "metadata": {},
   "outputs": [
    {
     "data": {
      "text/plain": [
       "array([-10.        +1.11022302e-16j,  -0.58432321+9.18123916e-01j,\n",
       "        -0.58432321-9.18123916e-01j])"
      ]
     },
     "execution_count": 13,
     "metadata": {},
     "output_type": "execute_result"
    }
   ],
   "source": [
    "ct.zeros(Gt)"
   ]
  },
  {
   "cell_type": "code",
   "execution_count": 14,
   "metadata": {},
   "outputs": [
    {
     "name": "stderr",
     "output_type": "stream",
     "text": [
      "c:\\Users\\Erick\\AppData\\Local\\Programs\\Python\\Python310\\lib\\site-packages\\control\\xferfcn.py:1083: ComplexWarning: Casting complex values to real discards the imaginary part\n",
      "  den[j, :maxindex+1] = poly(poles[j])\n",
      "c:\\Users\\Erick\\AppData\\Local\\Programs\\Python\\Python310\\lib\\site-packages\\control\\xferfcn.py:1113: ComplexWarning: Casting complex values to real discards the imaginary part\n",
      "  num[i, j, maxindex+1-len(numpoly):maxindex+1] = numpoly\n"
     ]
    },
    {
     "data": {
      "text/plain": [
       "array([-5.96777116+0.j        , -5.06391524+0.j        ,\n",
       "       -3.96761029+0.j        , -0.58432321+0.91812392j,\n",
       "       -0.58432321-0.91812392j, -0.40035166+0.78103279j,\n",
       "       -0.40035166-0.78103279j])"
      ]
     },
     "execution_count": 14,
     "metadata": {},
     "output_type": "execute_result"
    }
   ],
   "source": [
    "ct.poles(Gt)"
   ]
  },
  {
   "cell_type": "markdown",
   "metadata": {},
   "source": [
    "<h3 align='center'>Resposta ao Degrau:<h3>"
   ]
  },
  {
   "cell_type": "code",
   "execution_count": 15,
   "metadata": {},
   "outputs": [
    {
     "name": "stderr",
     "output_type": "stream",
     "text": [
      "c:\\Users\\Erick\\AppData\\Local\\Programs\\Python\\Python310\\lib\\site-packages\\control\\statesp.py:114: ComplexWarning: Casting complex values to real discards the imaginary part\n",
      "  arr = np.array(data, dtype=float)\n"
     ]
    },
    {
     "data": {
      "image/png": "[encoded data removed]",
      "text/plain": [
       "<Figure size 1200x500 with 1 Axes>"
      ]
     },
     "metadata": {},
     "output_type": "display_data"
    }
   ],
   "source": [
    "sol = ct.step_response(Gt)\n",
    "\n",
    "plt.figure(1)\n",
    "plt.plot(sol[0], sol[1])\n",
    "plt.show()"
   ]
  }
 ],
 "metadata": {
  "kernelspec": {
   "display_name": "Python 3",
   "language": "python",
   "name": "python3"
  },
  "language_info": {
   "codemirror_mode": {
    "name": "ipython",
    "version": 3
   },
   "file_extension": ".py",
   "mimetype": "text/x-python",
   "name": "python",
   "nbconvert_exporter": "python",
   "pygments_lexer": "ipython3",
   "version": "3.10.11"
  }
 },
 "nbformat": 4,
 "nbformat_minor": 2
}
