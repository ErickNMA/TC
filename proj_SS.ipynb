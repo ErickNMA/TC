{
 "cells": [
  {
   "cell_type": "markdown",
   "metadata": {},
   "source": [
    "# $$\\text{Projeto no Espaço de Estados:}$$"
   ]
  },
  {
   "cell_type": "code",
   "execution_count": 1,
   "metadata": {},
   "outputs": [],
   "source": [
    "import numpy as np\n",
    "import control as ct\n",
    "import matplotlib.pyplot as plt\n",
    "import scienceplots\n",
    "\n",
    "# Configurações de plot:\n",
    "plt.style.use([\n",
    "    'grid',\n",
    "    'retro'\n",
    "])\n",
    "plt.rcParams['lines.linewidth'] = 2\n",
    "plt.rcParams['font.size'] = 20\n",
    "plt.rcParams['figure.figsize'] = (12, 5)"
   ]
  },
  {
   "cell_type": "markdown",
   "metadata": {},
   "source": [
    "### $$\\text{Definição do sistema:}$$"
   ]
  },
  {
   "cell_type": "code",
   "execution_count": 2,
   "metadata": {},
   "outputs": [],
   "source": [
    "A = np.array([\n",
    "    [0, 1, 0],\n",
    "    [0, 0, 1],\n",
    "    [0, 2, -1]\n",
    "])\n",
    "\n",
    "B = np.array([[0],[0],[1]])\n",
    "\n",
    "C = np.array([\n",
    "    [10, 1, 0],\n",
    "    [1, 0, 0],\n",
    "    [0, 1, 0],\n",
    "    [0, 0, 1]\n",
    "])\n",
    "\n",
    "D = np.array([[0], [0],[0], [0]])\n",
    "\n",
    "k = np.array([1343.84, 296.38, 25])"
   ]
  },
  {
   "cell_type": "code",
   "execution_count": 3,
   "metadata": {},
   "outputs": [],
   "source": [
    "sys = ct.ss(A, B, C, D)"
   ]
  },
  {
   "cell_type": "code",
   "execution_count": 4,
   "metadata": {},
   "outputs": [
    {
     "ename": "ControlMIMONotImplemented",
     "evalue": "Not implemented for MIMO systems without slycot.",
     "output_type": "error",
     "traceback": [
      "\u001b[1;31m---------------------------------------------------------------------------\u001b[0m",
      "\u001b[1;31mModuleNotFoundError\u001b[0m                       Traceback (most recent call last)",
      "File \u001b[1;32mc:\\Users\\erick\\AppData\\Local\\Programs\\Python\\Python310\\lib\\site-packages\\control\\xferfcn.py:1492\u001b[0m, in \u001b[0;36m_convert_to_transfer_function\u001b[1;34m(sys, inputs, outputs, use_prefix_suffix)\u001b[0m\n\u001b[0;32m   1489\u001b[0m \u001b[38;5;28;01mtry\u001b[39;00m:\n\u001b[0;32m   1490\u001b[0m     \u001b[38;5;66;03m# Use Slycot to make the transformation\u001b[39;00m\n\u001b[0;32m   1491\u001b[0m     \u001b[38;5;66;03m# Make sure to convert system matrices to numpy arrays\u001b[39;00m\n\u001b[1;32m-> 1492\u001b[0m     \u001b[38;5;28;01mfrom\u001b[39;00m \u001b[38;5;21;01mslycot\u001b[39;00m \u001b[38;5;28;01mimport\u001b[39;00m tb04ad\n\u001b[0;32m   1493\u001b[0m     tfout \u001b[38;5;241m=\u001b[39m tb04ad(\n\u001b[0;32m   1494\u001b[0m         sys\u001b[38;5;241m.\u001b[39mnstates, sys\u001b[38;5;241m.\u001b[39mninputs, sys\u001b[38;5;241m.\u001b[39mnoutputs, array(sys\u001b[38;5;241m.\u001b[39mA),\n\u001b[0;32m   1495\u001b[0m         array(sys\u001b[38;5;241m.\u001b[39mB), array(sys\u001b[38;5;241m.\u001b[39mC), array(sys\u001b[38;5;241m.\u001b[39mD), tol1\u001b[38;5;241m=\u001b[39m\u001b[38;5;241m0.0\u001b[39m)\n",
      "\u001b[1;31mModuleNotFoundError\u001b[0m: No module named 'slycot'",
      "\nDuring handling of the above exception, another exception occurred:\n",
      "\u001b[1;31mControlMIMONotImplemented\u001b[0m                 Traceback (most recent call last)",
      "Cell \u001b[1;32mIn[4], line 1\u001b[0m\n\u001b[1;32m----> 1\u001b[0m \u001b[43mct\u001b[49m\u001b[38;5;241;43m.\u001b[39;49m\u001b[43mss2tf\u001b[49m\u001b[43m(\u001b[49m\u001b[43msys\u001b[49m\u001b[43m)\u001b[49m\n",
      "File \u001b[1;32mc:\\Users\\erick\\AppData\\Local\\Programs\\Python\\Python310\\lib\\site-packages\\control\\xferfcn.py:1827\u001b[0m, in \u001b[0;36mss2tf\u001b[1;34m(*args, **kwargs)\u001b[0m\n\u001b[0;32m   1824\u001b[0m     \u001b[38;5;28;01mif\u001b[39;00m \u001b[38;5;129;01mnot\u001b[39;00m kwargs\u001b[38;5;241m.\u001b[39mget(\u001b[38;5;124m'\u001b[39m\u001b[38;5;124moutputs\u001b[39m\u001b[38;5;124m'\u001b[39m):\n\u001b[0;32m   1825\u001b[0m         kwargs[\u001b[38;5;124m'\u001b[39m\u001b[38;5;124moutputs\u001b[39m\u001b[38;5;124m'\u001b[39m] \u001b[38;5;241m=\u001b[39m sys\u001b[38;5;241m.\u001b[39moutput_labels\n\u001b[0;32m   1826\u001b[0m     \u001b[38;5;28;01mreturn\u001b[39;00m TransferFunction(\n\u001b[1;32m-> 1827\u001b[0m         \u001b[43m_convert_to_transfer_function\u001b[49m\u001b[43m(\u001b[49m\n\u001b[0;32m   1828\u001b[0m \u001b[43m            \u001b[49m\u001b[43msys\u001b[49m\u001b[43m,\u001b[49m\u001b[43m \u001b[49m\u001b[43muse_prefix_suffix\u001b[49m\u001b[38;5;241;43m=\u001b[39;49m\u001b[38;5;129;43;01mnot\u001b[39;49;00m\u001b[43m \u001b[49m\u001b[43msys\u001b[49m\u001b[38;5;241;43m.\u001b[39;49m\u001b[43m_generic_name_check\u001b[49m\u001b[43m(\u001b[49m\u001b[43m)\u001b[49m\u001b[43m)\u001b[49m,\n\u001b[0;32m   1829\u001b[0m         \u001b[38;5;241m*\u001b[39m\u001b[38;5;241m*\u001b[39mkwargs)\n\u001b[0;32m   1830\u001b[0m \u001b[38;5;28;01melse\u001b[39;00m:\n\u001b[0;32m   1831\u001b[0m     \u001b[38;5;28;01mraise\u001b[39;00m \u001b[38;5;167;01mTypeError\u001b[39;00m(\n\u001b[0;32m   1832\u001b[0m         \u001b[38;5;124m\"\u001b[39m\u001b[38;5;124mss2tf(sys): sys must be a StateSpace object.  It is \u001b[39m\u001b[38;5;132;01m%s\u001b[39;00m\u001b[38;5;124m.\u001b[39m\u001b[38;5;124m\"\u001b[39m\n\u001b[0;32m   1833\u001b[0m         \u001b[38;5;241m%\u001b[39m \u001b[38;5;28mtype\u001b[39m(sys))\n",
      "File \u001b[1;32mc:\\Users\\erick\\AppData\\Local\\Programs\\Python\\Python310\\lib\\site-packages\\control\\xferfcn.py:1513\u001b[0m, in \u001b[0;36m_convert_to_transfer_function\u001b[1;34m(sys, inputs, outputs, use_prefix_suffix)\u001b[0m\n\u001b[0;32m   1510\u001b[0m \u001b[38;5;28;01mexcept\u001b[39;00m \u001b[38;5;167;01mImportError\u001b[39;00m:\n\u001b[0;32m   1511\u001b[0m     \u001b[38;5;66;03m# If slycot is not available, use signal.lti (SISO only)\u001b[39;00m\n\u001b[0;32m   1512\u001b[0m     \u001b[38;5;28;01mif\u001b[39;00m sys\u001b[38;5;241m.\u001b[39mninputs \u001b[38;5;241m!=\u001b[39m \u001b[38;5;241m1\u001b[39m \u001b[38;5;129;01mor\u001b[39;00m sys\u001b[38;5;241m.\u001b[39mnoutputs \u001b[38;5;241m!=\u001b[39m \u001b[38;5;241m1\u001b[39m:\n\u001b[1;32m-> 1513\u001b[0m         \u001b[38;5;28;01mraise\u001b[39;00m ControlMIMONotImplemented(\u001b[38;5;124m\"\u001b[39m\u001b[38;5;124mNot implemented for \u001b[39m\u001b[38;5;124m\"\u001b[39m \u001b[38;5;241m+\u001b[39m\n\u001b[0;32m   1514\u001b[0m             \u001b[38;5;124m\"\u001b[39m\u001b[38;5;124mMIMO systems without slycot.\u001b[39m\u001b[38;5;124m\"\u001b[39m)\n\u001b[0;32m   1516\u001b[0m     \u001b[38;5;66;03m# Do the conversion using sp.signal.ss2tf\u001b[39;00m\n\u001b[0;32m   1517\u001b[0m     \u001b[38;5;66;03m# Note that this returns a 2D array for the numerator\u001b[39;00m\n\u001b[0;32m   1518\u001b[0m     num, den \u001b[38;5;241m=\u001b[39m sp\u001b[38;5;241m.\u001b[39msignal\u001b[38;5;241m.\u001b[39mss2tf(sys\u001b[38;5;241m.\u001b[39mA, sys\u001b[38;5;241m.\u001b[39mB, sys\u001b[38;5;241m.\u001b[39mC, sys\u001b[38;5;241m.\u001b[39mD)\n",
      "\u001b[1;31mControlMIMONotImplemented\u001b[0m: Not implemented for MIMO systems without slycot."
     ]
    }
   ],
   "source": [
    "ct.ss2tf(sys)"
   ]
  }
 ],
 "metadata": {
  "kernelspec": {
   "display_name": "Python 3",
   "language": "python",
   "name": "python3"
  },
  "language_info": {
   "codemirror_mode": {
    "name": "ipython",
    "version": 3
   },
   "file_extension": ".py",
   "mimetype": "text/x-python",
   "name": "python",
   "nbconvert_exporter": "python",
   "pygments_lexer": "ipython3",
   "version": "3.10.11"
  }
 },
 "nbformat": 4,
 "nbformat_minor": 2
}
